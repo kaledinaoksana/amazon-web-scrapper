{
 "cells": [
  {
   "cell_type": "code",
   "execution_count": null,
   "metadata": {},
   "outputs": [],
   "source": [
    "class Website:\n",
    "    def __init__(self, name, url, titleTag, bodyTag, pageType):\n",
    "        self.name = name\n",
    "        self.url = url\n",
    "        self.titleTag = titleTag\n",
    "        self.bodyTag = bodyTag\n",
    "        self.pageType = pageType\n",
    "        \n",
    "class WebPage:\n",
    "    def __init__(self, name, url, titleTag):\n",
    "        self.url = url\n",
    "        self.titleTag = titleTag\n",
    "        self.name = name\n",
    "\n",
    "class Product(Website):\n",
    "   \"\"\"Contains information for scraping a product page\"\"\"\n",
    "   def __init__(self, name, url, titleTag, productNumberTag, priceTag):\n",
    "       Website.__init__(self, name, url, titleTag)\n",
    "       self.productNumberTag = productNumberTag\n",
    "       self.priceTag = priceTag\n",
    "\n",
    "class Article(Website):\n",
    "   \"\"\"Contains information for scraping an article page\"\"\"\n",
    "   def __init__(self, name, url, titleTag, bodyTag, dateTag):\n",
    "       Website.__init__(self, name, url, titleTag)\n",
    "       self.bodyTag = bodyTag\n",
    "       self.dateTag = dateTag"
   ]
  }
 ],
 "metadata": {
  "language_info": {
   "name": "python"
  },
  "orig_nbformat": 4
 },
 "nbformat": 4,
 "nbformat_minor": 2
}
