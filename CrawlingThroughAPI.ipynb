{
 "cells": [
  {
   "cell_type": "code",
   "execution_count": 1,
   "metadata": {},
   "outputs": [
    {
     "name": "stdout",
     "output_type": "stream",
     "text": [
      "US\n"
     ]
    }
   ],
   "source": [
    "# http://ip-api.com/json/50.78.253.58\n",
    "# http://ip-api.com/xml/50.78.253.58\n",
    "# http://ip-api.com/json/77.109.103.35\n",
    "import json\n",
    "from urllib.request import urlopen\n",
    "\n",
    "def getCountry(ipAddress):\n",
    "    response = urlopen('http://ip-api.com/json/'+ipAddress).read().decode('utf-8')\n",
    "    responseJson = json.loads(response)\n",
    "    return responseJson.get('countryCode')\n",
    "\n",
    "print(getCountry('50.78.253.58'))"
   ]
  },
  {
   "cell_type": "code",
   "execution_count": 2,
   "metadata": {},
   "outputs": [
    {
     "name": "stdout",
     "output_type": "stream",
     "text": [
      "[{'number': 0}, {'number': 1}, {'number': 2}]\n",
      "{'number': 1}\n",
      "3\n",
      "pear\n"
     ]
    }
   ],
   "source": [
    "import json\n",
    "\n",
    "jsonString = '{\"arrayOfNums\":[{\"number\":0},{\"number\":1},{\"number\":2}],\"arrayOfFruits\":[{\"fruit\":\"apple\"},{\"fruit\":\"banana\"},{\"fruit\":\"pear\"}]}'\n",
    "jsonObj = json.loads(jsonString)\n",
    "\n",
    "print(jsonObj.get('arrayOfNums'))\n",
    "print(jsonObj.get('arrayOfNums')[1])\n",
    "print(jsonObj.get('arrayOfNums')[1].get('number') + jsonObj.get('arrayOfNums')[2].get('number'))\n",
    "print(jsonObj.get('arrayOfFruits')[2].get('fruit'))\n"
   ]
  }
 ],
 "metadata": {
  "kernelspec": {
   "display_name": "env-01",
   "language": "python",
   "name": "python3"
  },
  "language_info": {
   "codemirror_mode": {
    "name": "ipython",
    "version": 3
   },
   "file_extension": ".py",
   "mimetype": "text/x-python",
   "name": "python",
   "nbconvert_exporter": "python",
   "pygments_lexer": "ipython3",
   "version": "3.9.16"
  },
  "orig_nbformat": 4
 },
 "nbformat": 4,
 "nbformat_minor": 2
}
