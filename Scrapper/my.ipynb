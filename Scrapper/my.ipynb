{
 "cells": [
  {
   "cell_type": "code",
   "execution_count": 2,
   "metadata": {},
   "outputs": [
    {
     "ename": "NameError",
     "evalue": "name 'connect_db' is not defined",
     "output_type": "error",
     "traceback": [
      "\u001b[0;31m---------------------------------------------------------------------------\u001b[0m",
      "\u001b[0;31mNameError\u001b[0m                                 Traceback (most recent call last)",
      "Cell \u001b[0;32mIn[2], line 3\u001b[0m\n\u001b[1;32m      1\u001b[0m \u001b[39mimport\u001b[39;00m \u001b[39mpyodbc\u001b[39;00m\n\u001b[1;32m      2\u001b[0m \u001b[39m# Save\u001b[39;00m\n\u001b[0;32m----> 3\u001b[0m \u001b[39mimport\u001b[39;00m \u001b[39msave1\u001b[39;00m\n\u001b[1;32m      4\u001b[0m \u001b[39m# Mail\u001b[39;00m\n\u001b[1;32m      5\u001b[0m \u001b[39mimport\u001b[39;00m \u001b[39msend\u001b[39;00m\n",
      "File \u001b[0;32m~/Documents/5_PORTFOLIO/PortfolioPython/AmazonWebScrapper/Scrapper/save1.py:48\u001b[0m\n\u001b[1;32m     44\u001b[0m             \u001b[39mprint\u001b[39m(\u001b[39m\"\u001b[39m\u001b[39mConnection to the database failed\u001b[39m\u001b[39m\"\u001b[39m)\n\u001b[1;32m     47\u001b[0m \u001b[39m# Подключаемся к базе данных\u001b[39;00m\n\u001b[0;32m---> 48\u001b[0m connection \u001b[39m=\u001b[39m connect_db()\n\u001b[1;32m     50\u001b[0m \u001b[39m# Создаем таблицу \u001b[39;00m\n\u001b[1;32m     51\u001b[0m create_table(connection)\n",
      "\u001b[0;31mNameError\u001b[0m: name 'connect_db' is not defined"
     ]
    }
   ],
   "source": [
    "import pyodbc\n",
    "# Save\n",
    "import save\n",
    "# Mail\n",
    "import send"
   ]
  }
 ],
 "metadata": {
  "kernelspec": {
   "display_name": "env-amazon",
   "language": "python",
   "name": "python3"
  },
  "language_info": {
   "codemirror_mode": {
    "name": "ipython",
    "version": 3
   },
   "file_extension": ".py",
   "mimetype": "text/x-python",
   "name": "python",
   "nbconvert_exporter": "python",
   "pygments_lexer": "ipython3",
   "version": "3.9.16"
  },
  "orig_nbformat": 4
 },
 "nbformat": 4,
 "nbformat_minor": 2
}
