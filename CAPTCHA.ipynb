{
 "cells": [
  {
   "cell_type": "code",
   "execution_count": 14,
   "metadata": {},
   "outputs": [
    {
     "name": "stdout",
     "output_type": "stream",
     "text": [
      "\n",
      "{'level': [1, 2, 3, 4, 5], 'page_num': [1, 1, 1, 1, 1], 'block_num': [0, 1, 1, 1, 1], 'par_num': [0, 0, 1, 1, 1], 'line_num': [0, 0, 0, 1, 1], 'word_num': [0, 0, 0, 0, 1], 'left': [0, 170, 170, 170, 170], 'top': [0, 60, 60, 60, 60], 'width': [1200, 920, 920, 920, 920], 'height': [1200, 1048, 1048, 1048, 1048], 'conf': [-1, -1, -1, -1, 95], 'text': ['', '', '', '', '']}\n",
      "b''\n",
      "2.280350850198276\n",
      "100.0\n"
     ]
    }
   ],
   "source": [
    "from PIL import Image, ImageFilter\n",
    "import pytesseract\n",
    "import numpy as np\n",
    "\n",
    "# kitten = Image.open('kitten.jpg')\n",
    "# blurryKitten = kitten.filter(ImageFilter.GaussianBlur)\n",
    "# blurryKitten.save('kitten_blurred.jpg')\n",
    "# blurryKitten.show()\n",
    "#\n",
    "#jpg = 'kitten.jpg'\n",
    "jpg = 'file.png'\n",
    "\n",
    "print(pytesseract.image_to_string(Image.open(jpg)))\n",
    "\n",
    "from pytesseract import Output\n",
    "\n",
    "print(pytesseract.image_to_data(Image.open(jpg),output_type=Output.DICT))\n",
    "print(pytesseract.image_to_string(Image.open(jpg),output_type=Output.BYTES))\n",
    "\n",
    "numbers = [100, 102, 98, 97, 103]\n",
    "print(np.std(numbers))\n",
    "print(np.mean(numbers))"
   ]
  },
  {
   "cell_type": "code",
   "execution_count": 17,
   "metadata": {},
   "outputs": [
    {
     "name": "stdout",
     "output_type": "stream",
     "text": [
      "This is some text, written in Arial, that W\n",
      "Tesseract. Here are some symbols: 1@\n",
      "\n",
      "This 1s some text. written in Arial, that will be read by\n",
      "Tesseract Here are some symbols: |@#$%*&\"()\n",
      "\n"
     ]
    }
   ],
   "source": [
    "from PIL import Image\n",
    "import pytesseract\n",
    "\n",
    "def cleanFile(filePath, newFilePath):\n",
    "    image = Image.open(filePath)\n",
    "\n",
    "    #Set a threshold value for the image, and save\n",
    "    image = image.point(lambda x: 0 if x < 143 else 255)\n",
    "    image.save(newFilePath)\n",
    "    return image\n",
    "\n",
    "# text\n",
    "print(pytesseract.image_to_string('text1.png'))\n",
    "image = cleanFile('text1.png', 'text1Cleaned.png')\n",
    "\n",
    "# text after cleaning\n",
    "print(pytesseract.image_to_string(image))"
   ]
  },
  {
   "cell_type": "code",
   "execution_count": null,
   "metadata": {},
   "outputs": [],
   "source": []
  },
  {
   "cell_type": "code",
   "execution_count": null,
   "metadata": {},
   "outputs": [],
   "source": []
  },
  {
   "cell_type": "code",
   "execution_count": null,
   "metadata": {},
   "outputs": [],
   "source": []
  },
  {
   "cell_type": "code",
   "execution_count": null,
   "metadata": {},
   "outputs": [],
   "source": []
  },
  {
   "cell_type": "code",
   "execution_count": null,
   "metadata": {},
   "outputs": [],
   "source": []
  },
  {
   "cell_type": "code",
   "execution_count": null,
   "metadata": {},
   "outputs": [],
   "source": []
  }
 ],
 "metadata": {
  "kernelspec": {
   "display_name": "env-01",
   "language": "python",
   "name": "python3"
  },
  "language_info": {
   "codemirror_mode": {
    "name": "ipython",
    "version": 3
   },
   "file_extension": ".py",
   "mimetype": "text/x-python",
   "name": "python",
   "nbconvert_exporter": "python",
   "pygments_lexer": "ipython3",
   "version": "3.9.16"
  },
  "orig_nbformat": 4
 },
 "nbformat": 4,
 "nbformat_minor": 2
}
