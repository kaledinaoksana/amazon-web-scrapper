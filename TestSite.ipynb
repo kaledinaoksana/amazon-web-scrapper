{
 "cells": [
  {
   "cell_type": "code",
   "execution_count": 70,
   "metadata": {},
   "outputs": [
    {
     "name": "stdout",
     "output_type": "stream",
     "text": [
      "index.html\n",
      "crypto.html\n",
      "kpmg.html\n",
      "datacleaning.html\n",
      "amazon.html\n",
      "covid.html\n"
     ]
    }
   ],
   "source": [
    "from urllib.request import urlopen\n",
    "from bs4 import BeautifulSoup\n",
    "import re\n",
    "import requests\n",
    "import random\n",
    "import datetime\n",
    "from urllib.parse import urlparse\n",
    "\n",
    "#Redirects\n",
    "#r = requests.get('http://github.com', allow_redirects=True)\n",
    "\n",
    "random.seed(0.112)\n",
    "URL = 'https://kaledinaoksana.github.io/portfolio.github.io/'\n",
    "#URL = 'http://en.wikipedia.org/wiki/Kevin_Bacon'\n",
    "headers = {\"User-Agent\": \"Mozilla/5.0 (Macintosh; Intel Mac OS X 10_15_7) AppleWebKit/537.36 (KHTML, like Gecko) Chrome/113.0.0.0 Safari/537.36\", \n",
    "           \"Accept-Encoding\":\"gzip, deflate, br\", \n",
    "           \"Accept\":\"text/html,application/xhtml+xml,application/xml;q=0.9,image/avif,image/webp,image/apng,*/*;q=0.8,application/signed-exchange;v=b3;q=0.7\", \n",
    "           \"DNT\":\"1\",\n",
    "           \"Connection\":\"close\", \n",
    "           \"Upgrade-Insecure-Requests\":\"1\"\n",
    "          }\n",
    "\n",
    "def getLink(URL):\n",
    "    page = requests.get(URL,headers=headers)\n",
    "    bs = BeautifulSoup(page.content, 'html.parser')\n",
    "    #print(bs)\n",
    "    #return bs.find_all('a', href=re.compile('^(/wiki/)((?!:).)*$'))\n",
    "    return bs.find_all('a')\n",
    " \n",
    "      \n",
    "#pattern = re.compile('[*#*]')\n",
    "pattern = re.compile('[*#//*]') \n",
    "\n",
    "for link in getLink(URL):\n",
    "    if 'href' in link.attrs:\n",
    "        if (pattern.search(link.attrs['href']) is None):\n",
    "            print(link.attrs['href'])\n",
    "        \n"
   ]
  },
  {
   "cell_type": "code",
   "execution_count": 124,
   "metadata": {},
   "outputs": [],
   "source": [
    "#Retrieves a list of all Internal links found on a page\n",
    "def getInternalLinks(bs,includeUrl):\n",
    "    global mylink\n",
    "    pattern = re.compile('[*#//*]') \n",
    "    internalLinks = []\n",
    "    links = bs.find_all('a')\n",
    "    for link in links:\n",
    "        if 'href' in link.attrs:\n",
    "            if (pattern.search(link.attrs['href']) is None):\n",
    "                if ( includeUrl != (mylink+'/'+ link.attrs['href'])):\n",
    "                    if link.attrs['href'] not in internalLinks:\n",
    "                        internalLinks.append(includeUrl+link.attrs['href'])\n",
    "\n",
    "    return internalLinks\n",
    "\n",
    "\n",
    "#Retrieves a list of all external links found on a page\n",
    "def getExternalLinks(bs, excludeUrl):\n",
    "    externalLinks = []\n",
    "    #Finds all links that start with \"http\" or \"www\" that do not contain the current URL\n",
    "    for link in bs.find_all('a', href=re.compile('^(http|www)((?!'+excludeUrl+').)*$')):\n",
    "        if link.attrs['href'] is not None:\n",
    "            if link.attrs['href'] not in externalLinks:\n",
    "                externalLinks.append(link.attrs['href'])\n",
    "    return externalLinks\n",
    "\n",
    "def getRandomExternalLink(startingPage):\n",
    "    try:\n",
    "        html = urlopen(startingPage)\n",
    "        bs = BeautifulSoup(html, 'html.parser')\n",
    "    except:\n",
    "        page = requests.get(startingPage,headers=headers, allow_redirects=True)\n",
    "        bs = BeautifulSoup(page.content, 'html.parser')\n",
    "    \n",
    "    externalLinks = getExternalLinks(bs,urlparse(startingPage).netloc)\n",
    "    if len(externalLinks) == 0:\n",
    "        print('No external links, looking around the site for one')\n",
    "        domain = '{}://{}'.format(urlparse(startingPage).scheme,urlparse(startingPage).netloc)\n",
    "        internalLinks = getInternalLinks(bs,startingPage)\n",
    "        return getRandomExternalLink(internalLinks[random.randint(0,len(internalLinks)-1)])\n",
    "    else:\n",
    "        return externalLinks[random.randint(0, len(externalLinks)-1)]\n",
    "\n",
    "def followExternalOnly(startingSite):\n",
    "    externalLink = getRandomExternalLink(startingSite)\n",
    "    print('Random external link is: {}'.format(externalLink))\n",
    "    followExternalOnly(externalLink)\n",
    "    \n"
   ]
  },
  {
   "cell_type": "code",
   "execution_count": 126,
   "metadata": {},
   "outputs": [
    {
     "name": "stdout",
     "output_type": "stream",
     "text": [
      "INT: {'https://kaledinaoksana.github.io/portfolio.github.io/index.html', 'https://kaledinaoksana.github.io/portfolio.github.io/crypto.html', 'https://kaledinaoksana.github.io/portfolio.github.io/amazon.html', 'https://kaledinaoksana.github.io/portfolio.github.io/covid.html', 'https://kaledinaoksana.github.io/portfolio.github.io/datacleaning.html', 'https://kaledinaoksana.github.io/portfolio.github.io/kpmg.html'}\n",
      "EXT: {'https://github.com/kaledinaoksana', 'https://www.kaggle.com/oksanakaledina', 'https://t.me/kaledinaoa', 'https://public.tableau.com/app/profile/oksana.kaledina', 'https://www.abs.gov.au/statistics?opendocument&ref=topBar', 'https://www.linkedin.com/in/oksana-kaledina/', 'https://www.theforage.com/virtual-internships/theme/m7W4GMqeT3bh9Nb2c/KPMG-Data-Analytics-Virtual-Internship?ref=FR6p4zePLHx99D9Tk', 'https://gitlab.com/kaledinaoksana'}\n"
     ]
    }
   ],
   "source": [
    "\n",
    "\n",
    "# Collects a list of all external URLs found on the site\n",
    "allExtLinks = set()\n",
    "allIntLinks = set()\n",
    "\n",
    "#mylink = 'https://kaledinaoksana.github.io/portfolio.github.io/'\n",
    "mylink = 'https://kaledinaoksana.github.io/portfolio.github.io/index.html'\n",
    "\n",
    "def getAllExternalLinks(siteUrl):\n",
    "    \n",
    "    html = urlopen(siteUrl)\n",
    "    domain = 'https://kaledinaoksana.github.io/portfolio.github.io/'\n",
    "    bs = BeautifulSoup(html, 'html.parser')\n",
    "    \n",
    "        \n",
    "    internalLinks = getInternalLinks(bs, domain)\n",
    "    externalLinks = getExternalLinks(bs, domain)\n",
    "\n",
    "    for link in externalLinks:\n",
    "        if link not in allExtLinks:\n",
    "            allExtLinks.add(link)\n",
    "            \n",
    "    for link in internalLinks:\n",
    "        if link not in allIntLinks:\n",
    "            allIntLinks.add(link)\n",
    "            getAllExternalLinks(link)\n",
    "\n",
    "allIntLinks.add(mylink)\n",
    "getAllExternalLinks(mylink)\n",
    "\n",
    "print('INT:', allIntLinks)\n",
    "print('EXT:', allExtLinks)\n"
   ]
  },
  {
   "cell_type": "code",
   "execution_count": 110,
   "metadata": {},
   "outputs": [
    {
     "name": "stdout",
     "output_type": "stream",
     "text": [
      "https://kaledinaoksana.github.io\n"
     ]
    }
   ],
   "source": []
  }
 ],
 "metadata": {
  "kernelspec": {
   "display_name": "env-01",
   "language": "python",
   "name": "python3"
  },
  "language_info": {
   "codemirror_mode": {
    "name": "ipython",
    "version": 3
   },
   "file_extension": ".py",
   "mimetype": "text/x-python",
   "name": "python",
   "nbconvert_exporter": "python",
   "pygments_lexer": "ipython3",
   "version": "3.9.16"
  },
  "orig_nbformat": 4
 },
 "nbformat": 4,
 "nbformat_minor": 2
}
