{
 "cells": [
  {
   "cell_type": "code",
   "execution_count": 14,
   "metadata": {},
   "outputs": [
    {
     "name": "stdout",
     "output_type": "stream",
     "text": [
      "\n",
      "{'level': [1, 2, 3, 4, 5], 'page_num': [1, 1, 1, 1, 1], 'block_num': [0, 1, 1, 1, 1], 'par_num': [0, 0, 1, 1, 1], 'line_num': [0, 0, 0, 1, 1], 'word_num': [0, 0, 0, 0, 1], 'left': [0, 170, 170, 170, 170], 'top': [0, 60, 60, 60, 60], 'width': [1200, 920, 920, 920, 920], 'height': [1200, 1048, 1048, 1048, 1048], 'conf': [-1, -1, -1, -1, 95], 'text': ['', '', '', '', '']}\n",
      "b''\n",
      "2.280350850198276\n",
      "100.0\n"
     ]
    }
   ],
   "source": [
    "from PIL import Image, ImageFilter\n",
    "import pytesseract\n",
    "import numpy as np\n",
    "\n",
    "# kitten = Image.open('kitten.jpg')\n",
    "# blurryKitten = kitten.filter(ImageFilter.GaussianBlur)\n",
    "# blurryKitten.save('kitten_blurred.jpg')\n",
    "# blurryKitten.show()\n",
    "#\n",
    "#jpg = 'kitten.jpg'\n",
    "jpg = 'file.png'\n",
    "\n",
    "print(pytesseract.image_to_string(Image.open(jpg)))\n",
    "\n",
    "from pytesseract import Output\n",
    "\n",
    "print(pytesseract.image_to_data(Image.open(jpg),output_type=Output.DICT))\n",
    "print(pytesseract.image_to_string(Image.open(jpg),output_type=Output.BYTES))\n",
    "\n",
    "numbers = [100, 102, 98, 97, 103]\n",
    "print(np.std(numbers))\n",
    "print(np.mean(numbers))"
   ]
  },
  {
   "cell_type": "code",
   "execution_count": 17,
   "metadata": {},
   "outputs": [
    {
     "name": "stdout",
     "output_type": "stream",
     "text": [
      "This is some text, written in Arial, that W\n",
      "Tesseract. Here are some symbols: 1@\n",
      "\n",
      "This 1s some text. written in Arial, that will be read by\n",
      "Tesseract Here are some symbols: |@#$%*&\"()\n",
      "\n"
     ]
    }
   ],
   "source": [
    "from PIL import Image\n",
    "import pytesseract\n",
    "\n",
    "def cleanFile(filePath, newFilePath):\n",
    "    image = Image.open(filePath)\n",
    "\n",
    "    #Set a threshold value for the image, and save\n",
    "    image = image.point(lambda x: 0 if x < 143 else 255)\n",
    "    image.save(newFilePath)\n",
    "    return image\n",
    "\n",
    "# text\n",
    "print(pytesseract.image_to_string('text1.png'))\n",
    "image = cleanFile('text1.png', 'text1Cleaned.png')\n",
    "\n",
    "# text after cleaning\n",
    "print(pytesseract.image_to_string(image))\n",
    "\n",
    "# TRUE TEXT\n",
    "# This is some text, written in Arial, that will be read by\n",
    "# Tesseract. Here are some symbols: !@#$%^&*()"
   ]
  },
  {
   "cell_type": "code",
   "execution_count": null,
   "metadata": {},
   "outputs": [],
   "source": []
  },
  {
   "cell_type": "code",
   "execution_count": 19,
   "metadata": {},
   "outputs": [
    {
     "name": "stdout",
     "output_type": "stream",
     "text": [
      "threshold: 115, confidence: 80.2 numChars 80\n",
      "threshold: 116, confidence: 80.11392405063292 numChars 79\n",
      "threshold: 117, confidence: 71.33333333333333 numChars 81\n",
      "threshold: 118, confidence: 74.74074074074075 numChars 81\n",
      "threshold: 119, confidence: 74.23170731707317 numChars 82\n",
      "threshold: 120, confidence: 73.22619047619048 numChars 84\n",
      "threshold: 121, confidence: 70.855421686747 numChars 83\n",
      "threshold: 122, confidence: 69.04819277108433 numChars 83\n",
      "threshold: 123, confidence: 77.03571428571429 numChars 84\n",
      "threshold: 124, confidence: 75.92857142857143 numChars 84\n",
      "threshold: 125, confidence: 79.27380952380952 numChars 84\n",
      "threshold: 126, confidence: 84.97619047619048 numChars 84\n",
      "threshold: 127, confidence: 83.33333333333333 numChars 84\n",
      "threshold: 128, confidence: 78.17647058823529 numChars 85\n",
      "threshold: 129, confidence: 80.83333333333333 numChars 84\n",
      "threshold: 130, confidence: 82.72619047619048 numChars 84\n",
      "threshold: 131, confidence: 79.30952380952381 numChars 84\n",
      "threshold: 132, confidence: 80.05952380952381 numChars 84\n",
      "threshold: 133, confidence: 73.56470588235294 numChars 85\n",
      "threshold: 134, confidence: 78.79268292682927 numChars 82\n",
      "threshold: 135, confidence: 85.3780487804878 numChars 82\n",
      "threshold: 136, confidence: 83.12048192771084 numChars 83\n",
      "threshold: 137, confidence: 88.98795180722891 numChars 83\n",
      "threshold: 138, confidence: 84.83132530120481 numChars 83\n",
      "threshold: 139, confidence: 86.0 numChars 82\n",
      "threshold: 140, confidence: 87.5 numChars 84\n",
      "threshold: 141, confidence: 87.60240963855422 numChars 83\n",
      "threshold: 142, confidence: 88.23809523809524 numChars 84\n",
      "threshold: 143, confidence: 89.29761904761905 numChars 84\n",
      "threshold: 144, confidence: 91.1547619047619 numChars 84\n",
      "threshold: 145, confidence: 87.05952380952381 numChars 84\n",
      "threshold: 146, confidence: 84.25581395348837 numChars 86\n",
      "threshold: 147, confidence: 88.82558139534883 numChars 86\n",
      "threshold: 148, confidence: 82.04494382022472 numChars 89\n",
      "threshold: 149, confidence: 84.19277108433735 numChars 83\n",
      "threshold: 150, confidence: 85.61176470588235 numChars 85\n",
      "threshold: 151, confidence: 86.53488372093024 numChars 86\n",
      "threshold: 152, confidence: 83.24137931034483 numChars 87\n",
      "threshold: 153, confidence: 79.6046511627907 numChars 86\n",
      "threshold: 154, confidence: 82.40449438202248 numChars 89\n",
      "threshold: 155, confidence: 80.65060240963855 numChars 83\n",
      "threshold: 156, confidence: 83.25 numChars 84\n",
      "threshold: 157, confidence: 87.10588235294118 numChars 85\n",
      "threshold: 158, confidence: 85.6 numChars 85\n",
      "threshold: 159, confidence: 83.60714285714286 numChars 84\n"
     ]
    }
   ],
   "source": [
    "import pytesseract\n",
    "from pytesseract import Output\n",
    "from PIL import Image\n",
    "import numpy as np\n",
    "\n",
    "def cleanFile(filePath, threshold):\n",
    "    image = Image.open(filePath)\n",
    "    #Set a threshold value for the image, and save\n",
    "    image = image.point(lambda x: 0 if x < threshold else 255)\n",
    "    return image\n",
    "\n",
    "def getConfidence(image):\n",
    "    data = pytesseract.image_to_data(image, output_type=Output.DICT)\n",
    "    text = data['text']\n",
    "    confidences = []\n",
    "    numChars = []\n",
    "\n",
    "    for i in range(len(text)):\n",
    "        if data['conf'][i] > -1:\n",
    "            confidences.append(data['conf'][i])\n",
    "            numChars.append(len(text[i]))\n",
    "            \n",
    "    return np.average(confidences, weights=numChars), sum(numChars)\n",
    "\n",
    "filePath = 'text1.png'\n",
    "\n",
    "start = 80\n",
    "step = 5\n",
    "end = 200\n",
    "\n",
    "start = 115\n",
    "step = 1\n",
    "end = 160\n",
    "\n",
    "for threshold in range(start, end, step):\n",
    "    image = cleanFile(filePath, threshold)\n",
    "    scores = getConfidence(image)\n",
    "    print(\"threshold: \" + str(threshold) + \", confidence: \" + str(scores[0]) + \" numChars \" + str(scores[1]))"
   ]
  },
  {
   "cell_type": "code",
   "execution_count": 74,
   "metadata": {},
   "outputs": [
    {
     "ename": "NoSuchElementException",
     "evalue": "Message: no such element: Unable to locate element: {\"method\":\"css selector\",\"selector\":\"[id=\"sitbReaderRightPageTurner\"]\"}\n  (Session info: chrome=114.0.5735.106)\n",
     "output_type": "error",
     "traceback": [
      "\u001b[0;31m---------------------------------------------------------------------------\u001b[0m",
      "\u001b[0;31mNoSuchElementException\u001b[0m                    Traceback (most recent call last)",
      "Cell \u001b[0;32mIn[74], line 41\u001b[0m\n\u001b[1;32m     37\u001b[0m actions\u001b[39m.\u001b[39mmove_to_element(element)\u001b[39m.\u001b[39mclick(hidden_element)\u001b[39m.\u001b[39mperform()\n\u001b[1;32m     39\u001b[0m imageList \u001b[39m=\u001b[39m []\n\u001b[0;32m---> 41\u001b[0m \u001b[39mwhile\u001b[39;00m \u001b[39m'\u001b[39m\u001b[39mpointer\u001b[39m\u001b[39m'\u001b[39m \u001b[39min\u001b[39;00m driver\u001b[39m.\u001b[39;49mfind_element_by_id(\u001b[39m'\u001b[39;49m\u001b[39msitbReaderRightPageTurner\u001b[39;49m\u001b[39m'\u001b[39;49m)\u001b[39m.\u001b[39mget_attribute(\u001b[39m'\u001b[39m\u001b[39mstyle\u001b[39m\u001b[39m'\u001b[39m):\n\u001b[1;32m     42\u001b[0m     \u001b[39m# While the right arrow is available for clicking, turn through pages\u001b[39;00m\n\u001b[1;32m     43\u001b[0m     driver\u001b[39m.\u001b[39mfind_element_by_id(\u001b[39m'\u001b[39m\u001b[39msitbReaderRightPageTurner\u001b[39m\u001b[39m'\u001b[39m)\u001b[39m.\u001b[39mclick()\n\u001b[1;32m     44\u001b[0m     time\u001b[39m.\u001b[39msleep(\u001b[39m2\u001b[39m)\n",
      "File \u001b[0;32m~/miniforge3/envs/env-01/lib/python3.9/site-packages/selenium/webdriver/remote/webdriver.py:360\u001b[0m, in \u001b[0;36mWebDriver.find_element_by_id\u001b[0;34m(self, id_)\u001b[0m\n\u001b[1;32m    345\u001b[0m \u001b[39mdef\u001b[39;00m \u001b[39mfind_element_by_id\u001b[39m(\u001b[39mself\u001b[39m, id_):\n\u001b[1;32m    346\u001b[0m \u001b[39m    \u001b[39m\u001b[39m\"\"\"Finds an element by id.\u001b[39;00m\n\u001b[1;32m    347\u001b[0m \n\u001b[1;32m    348\u001b[0m \u001b[39m    :Args:\u001b[39;00m\n\u001b[0;32m   (...)\u001b[0m\n\u001b[1;32m    358\u001b[0m \u001b[39m        element = driver.find_element_by_id('foo')\u001b[39;00m\n\u001b[1;32m    359\u001b[0m \u001b[39m    \"\"\"\u001b[39;00m\n\u001b[0;32m--> 360\u001b[0m     \u001b[39mreturn\u001b[39;00m \u001b[39mself\u001b[39;49m\u001b[39m.\u001b[39;49mfind_element(by\u001b[39m=\u001b[39;49mBy\u001b[39m.\u001b[39;49mID, value\u001b[39m=\u001b[39;49mid_)\n",
      "File \u001b[0;32m~/miniforge3/envs/env-01/lib/python3.9/site-packages/selenium/webdriver/remote/webdriver.py:976\u001b[0m, in \u001b[0;36mWebDriver.find_element\u001b[0;34m(self, by, value)\u001b[0m\n\u001b[1;32m    974\u001b[0m         by \u001b[39m=\u001b[39m By\u001b[39m.\u001b[39mCSS_SELECTOR\n\u001b[1;32m    975\u001b[0m         value \u001b[39m=\u001b[39m \u001b[39m'\u001b[39m\u001b[39m[name=\u001b[39m\u001b[39m\"\u001b[39m\u001b[39m%s\u001b[39;00m\u001b[39m\"\u001b[39m\u001b[39m]\u001b[39m\u001b[39m'\u001b[39m \u001b[39m%\u001b[39m value\n\u001b[0;32m--> 976\u001b[0m \u001b[39mreturn\u001b[39;00m \u001b[39mself\u001b[39;49m\u001b[39m.\u001b[39;49mexecute(Command\u001b[39m.\u001b[39;49mFIND_ELEMENT, {\n\u001b[1;32m    977\u001b[0m     \u001b[39m'\u001b[39;49m\u001b[39musing\u001b[39;49m\u001b[39m'\u001b[39;49m: by,\n\u001b[1;32m    978\u001b[0m     \u001b[39m'\u001b[39;49m\u001b[39mvalue\u001b[39;49m\u001b[39m'\u001b[39;49m: value})[\u001b[39m'\u001b[39m\u001b[39mvalue\u001b[39m\u001b[39m'\u001b[39m]\n",
      "File \u001b[0;32m~/miniforge3/envs/env-01/lib/python3.9/site-packages/selenium/webdriver/remote/webdriver.py:321\u001b[0m, in \u001b[0;36mWebDriver.execute\u001b[0;34m(self, driver_command, params)\u001b[0m\n\u001b[1;32m    319\u001b[0m response \u001b[39m=\u001b[39m \u001b[39mself\u001b[39m\u001b[39m.\u001b[39mcommand_executor\u001b[39m.\u001b[39mexecute(driver_command, params)\n\u001b[1;32m    320\u001b[0m \u001b[39mif\u001b[39;00m response:\n\u001b[0;32m--> 321\u001b[0m     \u001b[39mself\u001b[39;49m\u001b[39m.\u001b[39;49merror_handler\u001b[39m.\u001b[39;49mcheck_response(response)\n\u001b[1;32m    322\u001b[0m     response[\u001b[39m'\u001b[39m\u001b[39mvalue\u001b[39m\u001b[39m'\u001b[39m] \u001b[39m=\u001b[39m \u001b[39mself\u001b[39m\u001b[39m.\u001b[39m_unwrap_value(\n\u001b[1;32m    323\u001b[0m         response\u001b[39m.\u001b[39mget(\u001b[39m'\u001b[39m\u001b[39mvalue\u001b[39m\u001b[39m'\u001b[39m, \u001b[39mNone\u001b[39;00m))\n\u001b[1;32m    324\u001b[0m     \u001b[39mreturn\u001b[39;00m response\n",
      "File \u001b[0;32m~/miniforge3/envs/env-01/lib/python3.9/site-packages/selenium/webdriver/remote/errorhandler.py:242\u001b[0m, in \u001b[0;36mErrorHandler.check_response\u001b[0;34m(self, response)\u001b[0m\n\u001b[1;32m    240\u001b[0m         alert_text \u001b[39m=\u001b[39m value[\u001b[39m'\u001b[39m\u001b[39malert\u001b[39m\u001b[39m'\u001b[39m]\u001b[39m.\u001b[39mget(\u001b[39m'\u001b[39m\u001b[39mtext\u001b[39m\u001b[39m'\u001b[39m)\n\u001b[1;32m    241\u001b[0m     \u001b[39mraise\u001b[39;00m exception_class(message, screen, stacktrace, alert_text)\n\u001b[0;32m--> 242\u001b[0m \u001b[39mraise\u001b[39;00m exception_class(message, screen, stacktrace)\n",
      "\u001b[0;31mNoSuchElementException\u001b[0m: Message: no such element: Unable to locate element: {\"method\":\"css selector\",\"selector\":\"[id=\"sitbReaderRightPageTurner\"]\"}\n  (Session info: chrome=114.0.5735.106)\n"
     ]
    }
   ],
   "source": [
    "import time\n",
    "from urllib.request import urlretrieve\n",
    "from PIL import Image\n",
    "import pytesseract\n",
    "import subprocess\n",
    "from selenium import webdriver\n",
    "from selenium.webdriver.support.ui import WebDriverWait \n",
    "from selenium.webdriver.support import expected_conditions as EC\n",
    "from selenium.webdriver.common.by import By\n",
    "from selenium.webdriver.common.action_chains import ActionChains\n",
    "\n",
    "chrome_path = \"/Users/oksana_kaledina/.wdm/drivers/chromedriver/mac_arm64/114.0.5735.90/chromedriver\"\n",
    "link = 'https://www.amazon.com/Death-Ivan-Ilyich-Nikolayevich-Tolstoy/dp/1427027277'\n",
    "id = 'imgBlkFront'\n",
    "id_hidden = 'litb-canvas-click-wrapper'\n",
    "\n",
    "def getImageText(imageUrl):\n",
    "    urlretrieve(image, 'page.jpg')\n",
    "    p = subprocess.Popen(['tesseract', 'page.jpg', 'page'],stdout=subprocess.PIPE,stderr=subprocess.PIPE)\n",
    "    p.wait()\n",
    "    f = open('page.txt', 'r')\n",
    "    print(f.read())\n",
    "    \n",
    "    \n",
    "driver = webdriver.Chrome(executable_path=chrome_path)\n",
    "driver.get(link)\n",
    "time.sleep(2)\n",
    "\n",
    "element = driver.find_element(By.ID,id)\n",
    "hidden_element = driver.find_element(By.ID,id_hidden)\n",
    "\n",
    "actions = ActionChains(driver)\n",
    "actions.move_to_element(element).click(hidden_element).perform()\n",
    "\n",
    "time.sleep(2)\n",
    "\n",
    "driver.quit()"
   ]
  },
  {
   "cell_type": "code",
   "execution_count": null,
   "metadata": {},
   "outputs": [],
   "source": [
    "\n",
    "# while 'pointer' in driver.find_element_by_id('sitbReaderRightPageTurner').get_attribute('style'):\n",
    "#     # While the right arrow is available for clicking, turn through pages\n",
    "#     driver.find_element_by_id('sitbReaderRightPageTurner').click()\n",
    "#     time.sleep(2)\n",
    "#     # Get any new pages that have loaded (multiple pages can load at once,\n",
    "#     # but duplicates will not be added to a set)\n",
    "#     pages = driver.find_elements_by_xpath('//div[@class=\\'pageImage\\']/div/img')\n",
    "#     if not len(pages):\n",
    "#         print('No pages found')\n",
    "#         for page in pages:\n",
    "#             image = page.get_attribute('src')\n",
    "#             print('Found image: {}'.format(image))\n",
    "#             if image not in imageList:\n",
    "#                 imageList.append(image)\n",
    "#                 getImageText(image)"
   ]
  },
  {
   "cell_type": "code",
   "execution_count": null,
   "metadata": {},
   "outputs": [],
   "source": []
  }
 ],
 "metadata": {
  "kernelspec": {
   "display_name": "env-01",
   "language": "python",
   "name": "python3"
  },
  "language_info": {
   "codemirror_mode": {
    "name": "ipython",
    "version": 3
   },
   "file_extension": ".py",
   "mimetype": "text/x-python",
   "name": "python",
   "nbconvert_exporter": "python",
   "pygments_lexer": "ipython3",
   "version": "3.9.16"
  },
  "orig_nbformat": 4
 },
 "nbformat": 4,
 "nbformat_minor": 2
}
