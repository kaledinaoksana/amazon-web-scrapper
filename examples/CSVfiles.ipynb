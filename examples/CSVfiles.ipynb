{
 "cells": [
  {
   "cell_type": "code",
   "execution_count": 3,
   "metadata": {},
   "outputs": [
    {
     "name": "stdout",
     "output_type": "stream",
     "text": [
      "The album \"Name\" was released in Year\n",
      "The album \"Monty Python's Flying Circus\" was released in 1970\n",
      "The album \"Another Monty Python Record\" was released in 1971\n",
      "The album \"Monty Python's Previous Record\" was released in 1972\n",
      "The album \"The Monty Python Matching Tie and Handkerchief\" was released in 1973\n",
      "The album \"Monty Python Live at Drury Lane\" was released in 1974\n",
      "The album \"An Album of the Soundtrack of the Trailer of the Film of Monty Python and the Holy Grail\" was released in 1975\n",
      "The album \"Monty Python Live at City Center\" was released in 1977\n",
      "The album \"The Monty Python Instant Record Collection\" was released in 1977\n",
      "The album \"Monty Python's Life of Brian\" was released in 1979\n",
      "The album \"Monty Python's Cotractual Obligation Album\" was released in 1980\n",
      "The album \"Monty Python's The Meaning of Life\" was released in 1983\n",
      "The album \"The Final Rip Off\" was released in 1987\n",
      "The album \"Monty Python Sings\" was released in 1989\n",
      "The album \"The Ultimate Monty Python Rip Off\" was released in 1994\n",
      "The album \"Monty Python Sings Again\" was released in 2014\n"
     ]
    }
   ],
   "source": [
    "# StringIO object\n",
    "\n",
    "from urllib.request import urlopen\n",
    "from io import StringIO\n",
    "import csv\n",
    "\n",
    "data = urlopen('http://pythonscraping.com/files/MontyPythonAlbums.csv').read().decode('ascii', 'ignore')\n",
    "dataFile = StringIO(data)\n",
    "csvReader = csv.reader(dataFile)\n",
    "\n",
    "# for row in csvReader:\n",
    "#     print(row)\n",
    "\n",
    "for row in csvReader:\n",
    "    print('The album \"'+row[0]+'\" was released in '+str(row[1]))"
   ]
  },
  {
   "cell_type": "code",
   "execution_count": 5,
   "metadata": {},
   "outputs": [
    {
     "name": "stdout",
     "output_type": "stream",
     "text": [
      "['Name', 'Year']\n",
      "{'Name': \"Monty Python's Flying Circus\", 'Year': '1970'}\n",
      "{'Name': 'Another Monty Python Record', 'Year': '1971'}\n",
      "{'Name': \"Monty Python's Previous Record\", 'Year': '1972'}\n",
      "{'Name': 'The Monty Python Matching Tie and Handkerchief', 'Year': '1973'}\n",
      "{'Name': 'Monty Python Live at Drury Lane', 'Year': '1974'}\n",
      "{'Name': 'An Album of the Soundtrack of the Trailer of the Film of Monty Python and the Holy Grail', 'Year': '1975'}\n",
      "{'Name': 'Monty Python Live at City Center', 'Year': '1977'}\n",
      "{'Name': 'The Monty Python Instant Record Collection', 'Year': '1977'}\n",
      "{'Name': \"Monty Python's Life of Brian\", 'Year': '1979'}\n",
      "{'Name': \"Monty Python's Cotractual Obligation Album\", 'Year': '1980'}\n",
      "{'Name': \"Monty Python's The Meaning of Life\", 'Year': '1983'}\n",
      "{'Name': 'The Final Rip Off', 'Year': '1987'}\n",
      "{'Name': 'Monty Python Sings', 'Year': '1989'}\n",
      "{'Name': 'The Ultimate Monty Python Rip Off', 'Year': '1994'}\n",
      "{'Name': 'Monty Python Sings Again', 'Year': '2014'}\n"
     ]
    }
   ],
   "source": [
    "data = urlopen('http://pythonscraping.com/files/MontyPythonAlbums.csv').read().decode('ascii', 'ignore')\n",
    "dataFile = StringIO(data)\n",
    "dictReader = csv.DictReader(dataFile)\n",
    "\n",
    "print(dictReader.fieldnames)\n",
    "\n",
    "for row in dictReader:\n",
    "    print(row)"
   ]
  }
 ],
 "metadata": {
  "kernelspec": {
   "display_name": "env-01",
   "language": "python",
   "name": "python3"
  },
  "language_info": {
   "codemirror_mode": {
    "name": "ipython",
    "version": 3
   },
   "file_extension": ".py",
   "mimetype": "text/x-python",
   "name": "python",
   "nbconvert_exporter": "python",
   "pygments_lexer": "ipython3",
   "version": "3.9.16"
  },
  "orig_nbformat": 4
 },
 "nbformat": 4,
 "nbformat_minor": 2
}
