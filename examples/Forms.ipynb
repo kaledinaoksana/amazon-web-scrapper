{
 "cells": [
  {
   "cell_type": "code",
   "execution_count": 50,
   "metadata": {},
   "outputs": [
    {
     "name": "stdout",
     "output_type": "stream",
     "text": [
      "<Response [200]>\n",
      "True\n",
      "200\n",
      "Hello there, Oksana Kaledina!\n"
     ]
    }
   ],
   "source": [
    "# POST REQUEST\n",
    "import requests\n",
    "\n",
    "URL = \"https://pythonscraping.com/pages/files/processing.php\"\n",
    "data = {\"firstname\": \"Oksana\", \"lastname\": \"Kaledina\"}\n",
    "\n",
    "r = requests.post(URL, data=data)\n",
    "print(r)\n",
    "print(r.ok)\n",
    "print(r.status_code)\n",
    "print(r.text)"
   ]
  },
  {
   "cell_type": "code",
   "execution_count": 56,
   "metadata": {},
   "outputs": [
    {
     "name": "stdout",
     "output_type": "stream",
     "text": [
      "/Users/oksana_kaledina/Documents/5_PORTFOLIO/PortfolioPython/AmazonWebScrapper/file.png\n",
      "uploads/file.png\n",
      "The file file.png has been uploaded.\n"
     ]
    }
   ],
   "source": [
    "#UPLOAD FILE\n",
    "import requests\n",
    "import os\n",
    "\n",
    "path = os.getcwd() + '/file.png'\n",
    "print(path)\n",
    "\n",
    "files = {'uploadFile': open(path, 'rb')}\n",
    "r = requests.post('https://pythonscraping.com/pages/files/processing2.php', files=files)\n",
    "print(r.text)"
   ]
  },
  {
   "cell_type": "code",
   "execution_count": 61,
   "metadata": {},
   "outputs": [
    {
     "name": "stdout",
     "output_type": "stream",
     "text": [
      "Cookie is set to:\n",
      "{'loggedin': '1', 'username': 'Oksana'}\n",
      "Going to profile page...\n",
      "Hey Oksana! Looks like you're still logged into the site!\n"
     ]
    }
   ],
   "source": [
    "#COOKIES\n",
    "\n",
    "import requests\n",
    "\n",
    "URL_welcome = 'https://pythonscraping.com/pages/cookies/welcome.php'\n",
    "URL_profile = 'https://pythonscraping.com/pages/cookies/profile.php'\n",
    "data = {'username': 'Oksana', 'password': 'password'}\n",
    "\n",
    "r = requests.post(URL_welcome, data = data)\n",
    "print('Cookie is set to:')\n",
    "print(r.cookies.get_dict())\n",
    "print('Going to profile page...')\n",
    "r = requests.get(URL_profile, cookies=r.cookies)\n",
    "print(r.text)"
   ]
  },
  {
   "cell_type": "code",
   "execution_count": 62,
   "metadata": {},
   "outputs": [
    {
     "name": "stdout",
     "output_type": "stream",
     "text": [
      "Cookie is set to:\n",
      "{'loggedin': '1', 'username': 'Oksana'}\n",
      "Going to profile page...\n",
      "Hey Oksana! Looks like you're still logged into the site!\n"
     ]
    }
   ],
   "source": [
    "#COOKIES SESSION\n",
    "\n",
    "import requests\n",
    "\n",
    "URL_welcome = 'https://pythonscraping.com/pages/cookies/welcome.php'\n",
    "URL_profile = 'https://pythonscraping.com/pages/cookies/profile.php'\n",
    "data = {'username': 'Oksana', 'password': 'password'}\n",
    "\n",
    "session = requests.Session()\n",
    "s = session.post(URL_welcome,data=data)\n",
    "print('Cookie is set to:')\n",
    "print(s.cookies.get_dict())\n",
    "print('Going to profile page...')\n",
    "s = session.get(URL_profile)\n",
    "print(s.text)\n"
   ]
  },
  {
   "cell_type": "code",
   "execution_count": 64,
   "metadata": {},
   "outputs": [
    {
     "name": "stdout",
     "output_type": "stream",
     "text": [
      "<p>Hello Oksana.</p><p>You entered password as your password.</p>\n"
     ]
    }
   ],
   "source": [
    "# HTTPBasicAuth\n",
    "\n",
    "import requests\n",
    "from requests.auth import AuthBase\n",
    "from requests.auth import HTTPBasicAuth\n",
    "\n",
    "URL_form = 'https://pythonscraping.com/pages/auth/login.php'\n",
    "\n",
    "auth = HTTPBasicAuth('Oksana', 'password')\n",
    "r = requests.post(URL_form, auth=auth)\n",
    "print(r.text)"
   ]
  }
 ],
 "metadata": {
  "kernelspec": {
   "display_name": "env-01",
   "language": "python",
   "name": "python3"
  },
  "language_info": {
   "codemirror_mode": {
    "name": "ipython",
    "version": 3
   },
   "file_extension": ".py",
   "mimetype": "text/x-python",
   "name": "python",
   "nbconvert_exporter": "python",
   "pygments_lexer": "ipython3",
   "version": "3.9.16"
  },
  "orig_nbformat": 4
 },
 "nbformat": 4,
 "nbformat_minor": 2
}
