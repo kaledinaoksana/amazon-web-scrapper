{
 "cells": [
  {
   "cell_type": "markdown",
   "id": "648fbf3b",
   "metadata": {},
   "source": [
    "# Amazon Web Scraper Project"
   ]
  },
  {
   "cell_type": "code",
   "execution_count": 88,
   "id": "6ebf4efd",
   "metadata": {},
   "outputs": [],
   "source": [
    "# import libraries \n",
    "\n",
    "from bs4 import BeautifulSoup\n",
    "import pandas as pd\n",
    "import requests\n",
    "import time\n",
    "import datetime\n",
    "import smtplib #for sending emails\n",
    "import csv"
   ]
  },
  {
   "cell_type": "code",
   "execution_count": 89,
   "id": "ecc1e262",
   "metadata": {},
   "outputs": [],
   "source": [
    "# Connect to Website\n",
    "URL = 'https://www.amazon.com/Amazon-Essentials-Womens-Skirt-Camel/dp/B08JH893DJ/ref=sr_1_2?crid=2EPWJXDHO814T&keywords=skirt&qid=1686339482&sprefix=skirt%2Caps%2C213&sr=8-2&th=1&psc=1'\n",
    "headers = {\"User-Agent\": \"Mozilla/5.0 (Macintosh; Intel Mac OS X 10_15_7) AppleWebKit/537.36 (KHTML, like Gecko) Chrome/113.0.0.0 Safari/537.36\", \n",
    "           \"Accept-Encoding\":\"gzip, deflate, br\", \n",
    "           \"Accept\":\"text/html,application/xhtml+xml,application/xml;q=0.9,image/avif,image/webp,image/apng,*/*;q=0.8,application/signed-exchange;v=b3;q=0.7\", \n",
    "           \"DNT\":\"1\",\n",
    "           \"Connection\":\"close\", \n",
    "           \"Upgrade-Insecure-Requests\":\"1\"\n",
    "          }\n",
    "page = requests.get(URL,headers=headers)\n",
    "\n",
    "soup1 = BeautifulSoup(page.content, \"html.parser\")\n"
   ]
  },
  {
   "cell_type": "code",
   "execution_count": 35,
   "id": "f210de7c",
   "metadata": {},
   "outputs": [],
   "source": [
    "soup2 = BeautifulSoup(soup1.prettify(), 'html.parser')"
   ]
  },
  {
   "cell_type": "code",
   "execution_count": null,
   "id": "bcbe2162",
   "metadata": {},
   "outputs": [],
   "source": []
  },
  {
   "cell_type": "code",
   "execution_count": 90,
   "id": "6e2afecf",
   "metadata": {},
   "outputs": [
    {
     "data": {
      "text/plain": [
       "\"Amazon Essentials Women's Pull-On Knit Midi Skirt (Available in Plus Size)\""
      ]
     },
     "execution_count": 90,
     "metadata": {},
     "output_type": "execute_result"
    }
   ],
   "source": [
    "#<span id=\"productTitle\" class=\"a-size-large product-title-word-break\">        \n",
    "#Funny Got Data MIS Data Systems Business Analyst T-Shirt       </span>\n",
    "\n",
    "title = soup2.find(id=\"productTitle\").get_text().strip()\n",
    "title"
   ]
  },
  {
   "cell_type": "code",
   "execution_count": 91,
   "id": "6b3e9dec",
   "metadata": {},
   "outputs": [
    {
     "data": {
      "text/plain": [
       "[<span class=\"a-offscreen\">\n",
       "                    $26.10\n",
       "                   </span>,\n",
       " <span class=\"a-offscreen\">\n",
       "                                $26.10\n",
       "                               </span>,\n",
       " <span class=\"a-offscreen\">\n",
       "                                      $26.10\n",
       "                                     </span>,\n",
       " <span class=\"a-offscreen\">\n",
       " </span>,\n",
       " <span class=\"a-offscreen\">\n",
       " </span>,\n",
       " <span class=\"a-offscreen\">\n",
       "                                               $26.10\n",
       "                                              </span>,\n",
       " <span aria-live=\"polite\" class=\"a-carousel-accessibility-page-info a-offscreen\">\n",
       "                    Page 1 of 1\n",
       "                   </span>,\n",
       " <span aria-live=\"polite\" class=\"a-carousel-accessibility-page-info a-offscreen\">\n",
       "                     Page 1 of 1\n",
       "                    </span>,\n",
       " <span aria-live=\"polite\" class=\"a-carousel-accessibility-page-info a-offscreen\">\n",
       "                    Page 1 of 1\n",
       "                   </span>,\n",
       " <span aria-live=\"polite\" class=\"a-carousel-accessibility-page-info a-offscreen\">\n",
       "                    Page 1 of 1\n",
       "                   </span>,\n",
       " <span class=\"a-offscreen\">\n",
       "                                   $32.99\n",
       "                                  </span>,\n",
       " <span class=\"a-offscreen\">\n",
       "                                   $36.99\n",
       "                                  </span>]"
      ]
     },
     "execution_count": 91,
     "metadata": {},
     "output_type": "execute_result"
    }
   ],
   "source": [
    "#<span class=\"a-offscreen\">$26.10</span>\n",
    "soup2.find_all(\"span\", {\"class\": \"a-offscreen\"})"
   ]
  },
  {
   "cell_type": "code",
   "execution_count": 92,
   "id": "9af11c51",
   "metadata": {},
   "outputs": [],
   "source": [
    "price = soup2.find(\"span\", {\"class\": \"a-offscreen\"}).get_text().strip().replace('$','')\n"
   ]
  },
  {
   "cell_type": "code",
   "execution_count": 93,
   "id": "03b83ab3",
   "metadata": {},
   "outputs": [
    {
     "name": "stdout",
     "output_type": "stream",
     "text": [
      "Amazon Essentials Women's Pull-On Knit Midi Skirt (Available in Plus Size)\n",
      "26.10\n"
     ]
    },
    {
     "data": {
      "text/plain": [
       "str"
      ]
     },
     "execution_count": 93,
     "metadata": {},
     "output_type": "execute_result"
    }
   ],
   "source": [
    "print(title)\n",
    "print(price)\n",
    "type(price)"
   ]
  },
  {
   "cell_type": "code",
   "execution_count": 94,
   "id": "ff1a4785",
   "metadata": {},
   "outputs": [],
   "source": [
    "import csv\n",
    "\n",
    "header = ['Title','Price']\n",
    "data = [title, price]\n",
    "type(data)\n",
    "\n",
    "with open('AmazonWebScraperDataset.csv','w', newline = '', encoding = 'UTF8') as f:\n",
    "    writer = csv.writer(f)\n",
    "    writer.writerow(header)\n",
    "    writer.writerow(data)\n",
    "    "
   ]
  },
  {
   "cell_type": "code",
   "execution_count": 97,
   "id": "0d3f2144",
   "metadata": {},
   "outputs": [
    {
     "name": "stdout",
     "output_type": "stream",
     "text": [
      "2023-06-10\n"
     ]
    }
   ],
   "source": [
    "import datetime\n",
    "today = datetime.date.today()\n",
    "print(today)\n",
    "\n",
    "\n",
    "header = ['Title','Price','Date']\n",
    "data = [title, price, today]\n",
    "type(data)\n",
    "\n",
    "with open('AmazonWebScraperDataset.csv','w', newline = '', encoding = 'UTF8') as f:\n",
    "    writer = csv.writer(f)\n",
    "    writer.writerow(header)\n",
    "    writer.writerow(data)"
   ]
  },
  {
   "cell_type": "code",
   "execution_count": 98,
   "id": "c2b17ae1",
   "metadata": {},
   "outputs": [
    {
     "data": {
      "text/html": [
       "<div>\n",
       "<style scoped>\n",
       "    .dataframe tbody tr th:only-of-type {\n",
       "        vertical-align: middle;\n",
       "    }\n",
       "\n",
       "    .dataframe tbody tr th {\n",
       "        vertical-align: top;\n",
       "    }\n",
       "\n",
       "    .dataframe thead th {\n",
       "        text-align: right;\n",
       "    }\n",
       "</style>\n",
       "<table border=\"1\" class=\"dataframe\">\n",
       "  <thead>\n",
       "    <tr style=\"text-align: right;\">\n",
       "      <th></th>\n",
       "      <th>Title</th>\n",
       "      <th>Price</th>\n",
       "      <th>Date</th>\n",
       "    </tr>\n",
       "  </thead>\n",
       "  <tbody>\n",
       "    <tr>\n",
       "      <th>0</th>\n",
       "      <td>Amazon Essentials Women's Pull-On Knit Midi Sk...</td>\n",
       "      <td>26.1</td>\n",
       "      <td>2023-06-10</td>\n",
       "    </tr>\n",
       "  </tbody>\n",
       "</table>\n",
       "</div>"
      ],
      "text/plain": [
       "                                               Title  Price        Date\n",
       "0  Amazon Essentials Women's Pull-On Knit Midi Sk...   26.1  2023-06-10"
      ]
     },
     "execution_count": 98,
     "metadata": {},
     "output_type": "execute_result"
    }
   ],
   "source": [
    "df = pd.read_csv(r\"AmazonWebScraperDataset.csv\")\n",
    "df"
   ]
  },
  {
   "cell_type": "code",
   "execution_count": 86,
   "id": "3b761e35",
   "metadata": {},
   "outputs": [],
   "source": [
    "# appending data to the csv\n",
    "\n",
    "with open('AmazonWebScraperDataset.csv','a+', newline = '', encoding = 'UTF8') as f:\n",
    "    writer = csv.writer(f)\n",
    "    writer.writerow(data)\n",
    "\n",
    "\n"
   ]
  },
  {
   "cell_type": "code",
   "execution_count": 110,
   "id": "51cec0b4",
   "metadata": {},
   "outputs": [],
   "source": [
    "def check_price():\n",
    "    \n",
    "    # Connect to Website\n",
    "    URL = 'https://www.amazon.com/Amazon-Essentials-Womens-Skirt-Camel/dp/B08JH893DJ/ref=sr_1_2?crid=2EPWJXDHO814T&keywords=skirt&qid=1686339482&sprefix=skirt%2Caps%2C213&sr=8-2&th=1&psc=1'\n",
    "    headers = {\"User-Agent\": \"Mozilla/5.0 (Macintosh; Intel Mac OS X 10_15_7) AppleWebKit/537.36 (KHTML, like Gecko) Chrome/113.0.0.0 Safari/537.36\", \n",
    "               \"Accept-Encoding\":\"gzip, deflate, br\", \n",
    "               \"Accept\":\"text/html,application/xhtml+xml,application/xml;q=0.9,image/avif,image/webp,image/apng,*/*;q=0.8,application/signed-exchange;v=b3;q=0.7\", \n",
    "               \"DNT\":\"1\",\n",
    "               \"Connection\":\"close\", \n",
    "               \"Upgrade-Insecure-Requests\":\"1\"\n",
    "              }\n",
    "    page = requests.get(URL,headers=headers)\n",
    "\n",
    "    soup1 = BeautifulSoup(page.content, \"html.parser\")\n",
    "    soup2 = BeautifulSoup(soup1.prettify(), 'html.parser')\n",
    "    \n",
    "    title = soup2.find(id=\"productTitle\").get_text().strip()\n",
    "    price = soup2.find(\"span\", {\"class\": \"a-offscreen\"}).get_text().strip().replace('$','')\n",
    "    \n",
    "    today = datetime.date.today()\n",
    "    \n",
    "    header = ['Title','Price','Date']\n",
    "    data = [title, price, today]\n",
    "    \n",
    "    with open('AmazonWebScraperDataset.csv','a+', newline = '', encoding = 'UTF8') as f:\n",
    "        writer = csv.writer(f)\n",
    "        writer.writerow(data)\n",
    "    \n",
    "    if (price<16):\n",
    "        send_mail()\n",
    " \n",
    "    "
   ]
  },
  {
   "cell_type": "code",
   "execution_count": 111,
   "id": "2a62e763",
   "metadata": {},
   "outputs": [
    {
     "ename": "KeyboardInterrupt",
     "evalue": "",
     "output_type": "error",
     "traceback": [
      "\u001b[0;31m---------------------------------------------------------------------------\u001b[0m",
      "\u001b[0;31mKeyboardInterrupt\u001b[0m                         Traceback (most recent call last)",
      "\u001b[0;32m/var/folders/50/wfcv_4zx0917yzh38hjkl9480000gn/T/ipykernel_56487/4212351095.py\u001b[0m in \u001b[0;36m<module>\u001b[0;34m\u001b[0m\n\u001b[1;32m      1\u001b[0m \u001b[0;32mwhile\u001b[0m\u001b[0;34m(\u001b[0m\u001b[0;32mTrue\u001b[0m\u001b[0;34m)\u001b[0m\u001b[0;34m:\u001b[0m\u001b[0;34m\u001b[0m\u001b[0;34m\u001b[0m\u001b[0m\n\u001b[1;32m      2\u001b[0m     \u001b[0mcheck_price\u001b[0m\u001b[0;34m(\u001b[0m\u001b[0;34m)\u001b[0m\u001b[0;34m\u001b[0m\u001b[0;34m\u001b[0m\u001b[0m\n\u001b[0;32m----> 3\u001b[0;31m     \u001b[0mtime\u001b[0m\u001b[0;34m.\u001b[0m\u001b[0msleep\u001b[0m\u001b[0;34m(\u001b[0m\u001b[0;36m5\u001b[0m\u001b[0;34m)\u001b[0m\u001b[0;34m\u001b[0m\u001b[0;34m\u001b[0m\u001b[0m\n\u001b[0m",
      "\u001b[0;31mKeyboardInterrupt\u001b[0m: "
     ]
    }
   ],
   "source": [
    "while(True):\n",
    "    check_price()\n",
    "    time.sleep(5)"
   ]
  },
  {
   "cell_type": "code",
   "execution_count": 112,
   "id": "4b91da0d",
   "metadata": {},
   "outputs": [
    {
     "data": {
      "text/html": [
       "<div>\n",
       "<style scoped>\n",
       "    .dataframe tbody tr th:only-of-type {\n",
       "        vertical-align: middle;\n",
       "    }\n",
       "\n",
       "    .dataframe tbody tr th {\n",
       "        vertical-align: top;\n",
       "    }\n",
       "\n",
       "    .dataframe thead th {\n",
       "        text-align: right;\n",
       "    }\n",
       "</style>\n",
       "<table border=\"1\" class=\"dataframe\">\n",
       "  <thead>\n",
       "    <tr style=\"text-align: right;\">\n",
       "      <th></th>\n",
       "      <th>Title</th>\n",
       "      <th>Price</th>\n",
       "      <th>Date</th>\n",
       "    </tr>\n",
       "  </thead>\n",
       "  <tbody>\n",
       "    <tr>\n",
       "      <th>0</th>\n",
       "      <td>Amazon Essentials Women's Pull-On Knit Midi Sk...</td>\n",
       "      <td>26.1</td>\n",
       "      <td>2023-06-10</td>\n",
       "    </tr>\n",
       "    <tr>\n",
       "      <th>1</th>\n",
       "      <td>Amazon Essentials Women's Pull-On Knit Midi Sk...</td>\n",
       "      <td>26.1</td>\n",
       "      <td>2023-06-10</td>\n",
       "    </tr>\n",
       "    <tr>\n",
       "      <th>2</th>\n",
       "      <td>Amazon Essentials Women's Pull-On Knit Midi Sk...</td>\n",
       "      <td>26.1</td>\n",
       "      <td>2023-06-10</td>\n",
       "    </tr>\n",
       "    <tr>\n",
       "      <th>3</th>\n",
       "      <td>Amazon Essentials Women's Pull-On Knit Midi Sk...</td>\n",
       "      <td>26.1</td>\n",
       "      <td>2023-06-10</td>\n",
       "    </tr>\n",
       "    <tr>\n",
       "      <th>4</th>\n",
       "      <td>Amazon Essentials Women's Pull-On Knit Midi Sk...</td>\n",
       "      <td>26.1</td>\n",
       "      <td>2023-06-10</td>\n",
       "    </tr>\n",
       "    <tr>\n",
       "      <th>5</th>\n",
       "      <td>Amazon Essentials Women's Pull-On Knit Midi Sk...</td>\n",
       "      <td>26.1</td>\n",
       "      <td>2023-06-10</td>\n",
       "    </tr>\n",
       "    <tr>\n",
       "      <th>6</th>\n",
       "      <td>Amazon Essentials Women's Pull-On Knit Midi Sk...</td>\n",
       "      <td>26.1</td>\n",
       "      <td>2023-06-10</td>\n",
       "    </tr>\n",
       "    <tr>\n",
       "      <th>7</th>\n",
       "      <td>Amazon Essentials Women's Pull-On Knit Midi Sk...</td>\n",
       "      <td>26.1</td>\n",
       "      <td>2023-06-10</td>\n",
       "    </tr>\n",
       "    <tr>\n",
       "      <th>8</th>\n",
       "      <td>Amazon Essentials Women's Pull-On Knit Midi Sk...</td>\n",
       "      <td>26.1</td>\n",
       "      <td>2023-06-10</td>\n",
       "    </tr>\n",
       "    <tr>\n",
       "      <th>9</th>\n",
       "      <td>Amazon Essentials Women's Pull-On Knit Midi Sk...</td>\n",
       "      <td>26.1</td>\n",
       "      <td>2023-06-10</td>\n",
       "    </tr>\n",
       "    <tr>\n",
       "      <th>10</th>\n",
       "      <td>Amazon Essentials Women's Pull-On Knit Midi Sk...</td>\n",
       "      <td>26.1</td>\n",
       "      <td>2023-06-10</td>\n",
       "    </tr>\n",
       "    <tr>\n",
       "      <th>11</th>\n",
       "      <td>Amazon Essentials Women's Pull-On Knit Midi Sk...</td>\n",
       "      <td>26.1</td>\n",
       "      <td>2023-06-10</td>\n",
       "    </tr>\n",
       "    <tr>\n",
       "      <th>12</th>\n",
       "      <td>Amazon Essentials Women's Pull-On Knit Midi Sk...</td>\n",
       "      <td>26.1</td>\n",
       "      <td>2023-06-10</td>\n",
       "    </tr>\n",
       "  </tbody>\n",
       "</table>\n",
       "</div>"
      ],
      "text/plain": [
       "                                                Title  Price        Date\n",
       "0   Amazon Essentials Women's Pull-On Knit Midi Sk...   26.1  2023-06-10\n",
       "1   Amazon Essentials Women's Pull-On Knit Midi Sk...   26.1  2023-06-10\n",
       "2   Amazon Essentials Women's Pull-On Knit Midi Sk...   26.1  2023-06-10\n",
       "3   Amazon Essentials Women's Pull-On Knit Midi Sk...   26.1  2023-06-10\n",
       "4   Amazon Essentials Women's Pull-On Knit Midi Sk...   26.1  2023-06-10\n",
       "5   Amazon Essentials Women's Pull-On Knit Midi Sk...   26.1  2023-06-10\n",
       "6   Amazon Essentials Women's Pull-On Knit Midi Sk...   26.1  2023-06-10\n",
       "7   Amazon Essentials Women's Pull-On Knit Midi Sk...   26.1  2023-06-10\n",
       "8   Amazon Essentials Women's Pull-On Knit Midi Sk...   26.1  2023-06-10\n",
       "9   Amazon Essentials Women's Pull-On Knit Midi Sk...   26.1  2023-06-10\n",
       "10  Amazon Essentials Women's Pull-On Knit Midi Sk...   26.1  2023-06-10\n",
       "11  Amazon Essentials Women's Pull-On Knit Midi Sk...   26.1  2023-06-10\n",
       "12  Amazon Essentials Women's Pull-On Knit Midi Sk...   26.1  2023-06-10"
      ]
     },
     "execution_count": 112,
     "metadata": {},
     "output_type": "execute_result"
    }
   ],
   "source": [
    "pd.read_csv(r\"AmazonWebScraperDataset.csv\")"
   ]
  },
  {
   "cell_type": "code",
   "execution_count": null,
   "id": "88519ee9",
   "metadata": {},
   "outputs": [],
   "source": []
  },
  {
   "cell_type": "code",
   "execution_count": null,
   "id": "5edc3cef",
   "metadata": {},
   "outputs": [],
   "source": []
  },
  {
   "cell_type": "code",
   "execution_count": 140,
   "id": "0fca1930",
   "metadata": {},
   "outputs": [
    {
     "name": "stdout",
     "output_type": "stream",
     "text": [
      "Mail Sent\n"
     ]
    }
   ],
   "source": [
    "import smtplib\n",
    "from email.mime.multipart import MIMEMultipart\n",
    "from email.mime.text import MIMEText\n",
    "mail_content = \"hh\"\n",
    "sender_address = 'kaledinaoa@outlook.com'\n",
    "sender_pass = 'Onneter78'\n",
    "receiver_address = 'kaledinaoa@gmail.com'\n",
    "#Setup the MIME\n",
    "message = MIMEMultipart()\n",
    "message['From'] = sender_address\n",
    "message['To'] = receiver_address\n",
    "message['Subject'] = 'A test mail sent by Python. It has an attachment.'   #The subject line\n",
    "#The body and the attachments for the mail\n",
    "message.attach(MIMEText(mail_content, 'plain'))\n",
    "#Create SMTP session for sending the mail\n",
    "session = smtplib.SMTP('smtp.office365.com', 587) #use gmail with port\n",
    "session.starttls() #enable security\n",
    "session.login(sender_address, sender_pass) #login with mail_id and password\n",
    "text = message.as_string()\n",
    "session.sendmail(sender_address, receiver_address, text)\n",
    "session.quit()\n",
    "print('Mail Sent')"
   ]
  },
  {
   "cell_type": "code",
   "execution_count": null,
   "id": "4bee7963",
   "metadata": {},
   "outputs": [],
   "source": []
  },
  {
   "cell_type": "code",
   "execution_count": null,
   "id": "a12f8d11",
   "metadata": {},
   "outputs": [],
   "source": []
  },
  {
   "cell_type": "code",
   "execution_count": null,
   "id": "01346fbf",
   "metadata": {},
   "outputs": [],
   "source": []
  }
 ],
 "metadata": {
  "kernelspec": {
   "display_name": "Python 3 (ipykernel)",
   "language": "python",
   "name": "python3"
  },
  "language_info": {
   "codemirror_mode": {
    "name": "ipython",
    "version": 3
   },
   "file_extension": ".py",
   "mimetype": "text/x-python",
   "name": "python",
   "nbconvert_exporter": "python",
   "pygments_lexer": "ipython3",
   "version": "3.10.10"
  }
 },
 "nbformat": 4,
 "nbformat_minor": 5
}
