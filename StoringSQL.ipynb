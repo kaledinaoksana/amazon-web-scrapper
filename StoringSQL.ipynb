{
 "cells": [
  {
   "cell_type": "code",
   "execution_count": 69,
   "metadata": {},
   "outputs": [
    {
     "name": "stdout",
     "output_type": "stream",
     "text": [
      "(1001, 'Salesman', 45000)\n"
     ]
    }
   ],
   "source": [
    "\n",
    "import pyodbc\n",
    "import settings as st\n",
    "\n",
    "\n",
    "\n",
    "\n",
    "conn = pyodbc.connect('DRIVER=' + st.DRIVER + ';SERVER=' + st.SERVER + ';UID=' + st.USER + ';PWD=' + st.PSW )\n",
    "\n",
    "cur = conn.cursor()\n",
    "cur.execute('SELECT TOP (100) [EmployeeID],[JobTitle],[Salary] FROM [SQLTutorial].[dbo].[EmployeeSalary]')\n",
    "print(cur.fetchone())\n",
    "cur.close()\n",
    "conn.close()\n"
   ]
  },
  {
   "cell_type": "code",
   "execution_count": 60,
   "metadata": {},
   "outputs": [
    {
     "data": {
      "text/plain": [
       "['ODBC Driver 17 for SQL Server']"
      ]
     },
     "execution_count": 60,
     "metadata": {},
     "output_type": "execute_result"
    }
   ],
   "source": [
    "pyodbc.drivers()"
   ]
  }
 ],
 "metadata": {
  "kernelspec": {
   "display_name": "env-01",
   "language": "python",
   "name": "python3"
  },
  "language_info": {
   "codemirror_mode": {
    "name": "ipython",
    "version": 3
   },
   "file_extension": ".py",
   "mimetype": "text/x-python",
   "name": "python",
   "nbconvert_exporter": "python",
   "pygments_lexer": "ipython3",
   "version": "3.9.16"
  },
  "orig_nbformat": 4
 },
 "nbformat": 4,
 "nbformat_minor": 2
}
