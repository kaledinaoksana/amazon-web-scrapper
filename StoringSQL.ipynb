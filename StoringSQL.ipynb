{
 "cells": [
  {
   "cell_type": "code",
   "execution_count": 5,
   "metadata": {},
   "outputs": [
    {
     "name": "stdout",
     "output_type": "stream",
     "text": [
      "[(1001, 'Salesman', 45000), (1002, 'Receptionist', 36000), (1003, 'Salesman', 63000), (1004, 'Accountant', 47000), (1005, 'HR', 50000), (1006, 'Regional Manager', 65000), (1007, 'Supplier Relations', 41000), (1008, 'Salesman', 48000), (1009, 'Accountant', 42000), (1010, None, 47000), (None, 'Salesman', 43000)]\n"
     ]
    }
   ],
   "source": [
    "\n",
    "import pyodbc\n",
    "import settings as st\n",
    "\n",
    "conn = pyodbc.connect('DRIVER=' + st.DRIVER + ';SERVER=' + st.SERVER + ';UID=' + st.USER + ';PWD=' + st.PSW )\n",
    "\n",
    "cur = conn.cursor()\n",
    "cur.execute('SELECT TOP (100) [EmployeeID],[JobTitle],[Salary] FROM [SQLTutorial].[dbo].[EmployeeSalary]')\n",
    "#cur.execute('CREATE DATABASE scraping')\n",
    "\n",
    "print(cur.fetchall())\n",
    "\n",
    "cur.close()\n",
    "conn.close()\n"
   ]
  },
  {
   "cell_type": "code",
   "execution_count": 6,
   "metadata": {},
   "outputs": [
    {
     "data": {
      "text/plain": [
       "['ODBC Driver 17 for SQL Server']"
      ]
     },
     "execution_count": 6,
     "metadata": {},
     "output_type": "execute_result"
    }
   ],
   "source": [
    "pyodbc.drivers()"
   ]
  },
  {
   "cell_type": "code",
   "execution_count": null,
   "metadata": {},
   "outputs": [],
   "source": [
    "from urllib.request import urlopen\n",
    "textPage = urlopen('http://www.pythonscraping.com/pages/warandpeace/chapter1-ru.txt')\n",
    "print(textPage.read())"
   ]
  }
 ],
 "metadata": {
  "kernelspec": {
   "display_name": "env-01",
   "language": "python",
   "name": "python3"
  },
  "language_info": {
   "codemirror_mode": {
    "name": "ipython",
    "version": 3
   },
   "file_extension": ".py",
   "mimetype": "text/x-python",
   "name": "python",
   "nbconvert_exporter": "python",
   "pygments_lexer": "ipython3",
   "version": "3.9.16"
  },
  "orig_nbformat": 4
 },
 "nbformat": 4,
 "nbformat_minor": 2
}
