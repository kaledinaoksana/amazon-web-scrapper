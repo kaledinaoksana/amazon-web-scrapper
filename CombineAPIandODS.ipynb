{
 "cells": [
  {
   "cell_type": "code",
   "execution_count": 19,
   "metadata": {},
   "outputs": [
    {
     "name": "stderr",
     "output_type": "stream",
     "text": [
      "/var/folders/50/wfcv_4zx0917yzh38hjkl9480000gn/T/ipykernel_97915/4271185091.py:10: DeprecationWarning: Seeding based on hashing is deprecated\n",
      "since Python 3.9 and will be removed in a subsequent version. The only \n",
      "supported seed types are: None, int, float, str, bytes, and bytearray.\n",
      "  random.seed(datetime.datetime.now())\n"
     ]
    },
    {
     "name": "stdout",
     "output_type": "stream",
     "text": [
      "history url is: http://en.wikipedia.org/w/index.php?title=ITER&action=history\n",
      "36.228.128.241\n",
      "TW\n",
      "Taoyuan District\n",
      "----------------------------------------\n",
      "156.68.191.227\n",
      "US\n",
      "Norfolk\n",
      "----------------------------------------\n",
      "93.42.70.174\n",
      "IT\n",
      "Rome\n",
      "----------------------------------------\n",
      "108.53.13.203\n",
      "US\n",
      "North Bergen\n",
      "----------------------------------------\n",
      "2600:1700:1900:8a70:bd61:6b9:34a7:6e04\n",
      "US\n",
      "Oviedo\n",
      "----------------------------------------\n"
     ]
    }
   ],
   "source": [
    "from urllib.request import urlopen\n",
    "from bs4 import BeautifulSoup\n",
    "import json\n",
    "import datetime\n",
    "import random\n",
    "import re\n",
    "\n",
    "# http://ip-api.com/json/77.109.103.35\n",
    "\n",
    "random.seed(datetime.datetime.now())\n",
    "def getLinks(articleUrl):\n",
    "    html = urlopen('http://en.wikipedia.org{}'.format(articleUrl))\n",
    "    bs = BeautifulSoup(html, 'html.parser')\n",
    "    return bs.find('div', {'id':'bodyContent'}).find_all('a', href=re.compile('^(/wiki/)((?!:).)*$'))\n",
    "\n",
    "def getHistoryIPs(pageUrl):\n",
    "    #Format of revision history pages is: \n",
    "    #http://en.wikipedia.org/w/index.php?title=Title_in_URL&action=history\n",
    "    pageUrl = pageUrl.replace('/wiki/', '')\n",
    "    historyUrl = 'http://en.wikipedia.org/w/index.php?title={}&action=history'.format(pageUrl)\n",
    "    print('history url is: {}'.format(historyUrl))\n",
    "    html = urlopen(historyUrl)\n",
    "    bs = BeautifulSoup(html, 'html.parser')\n",
    "    #finds only the links with class \"mw-anonuserlink\" which has IP addresses \n",
    "    #instead of usernames\n",
    "    ipAddresses = bs.find_all('a', {'class':'mw-anonuserlink'})\n",
    "    addressList = set()\n",
    "    for ipAddress in ipAddresses:\n",
    "        addressList.add(ipAddress.get_text())\n",
    "    return addressList\n",
    "\n",
    "def getCountry(ipAddress):\n",
    "    response = urlopen('http://ip-api.com/json/'+ipAddress).read().decode('utf-8')\n",
    "    responseJson = json.loads(response)\n",
    "    return responseJson.get('countryCode')\n",
    "\n",
    "def getCity(ipAddress):\n",
    "    response = urlopen('http://ip-api.com/json/'+ipAddress).read().decode('utf-8')\n",
    "    responseJson = json.loads(response)\n",
    "    return responseJson.get('city')\n",
    "\n",
    "def getLinkInfo(link):\n",
    "    historyIPs = getHistoryIPs(link)\n",
    "    for historyIP in historyIPs:\n",
    "        print('{} is from {}, {}'.format(historyIP, getCountry(historyIP), getCity(historyIP)))\n",
    "        \n",
    "def ipLinks(link):\n",
    "    links = getLinks(link)\n",
    "    while(len(links) > 0):\n",
    "        for link in links:\n",
    "            print('-'*20)\n",
    "            historyIPs = getHistoryIPs(link.attrs['href'])\n",
    "            for historyIP in historyIPs:\n",
    "                print(historyIP)\n",
    "    newLink = links[random.randint(0, len(links)-1)].attrs['href']\n",
    "    links = getLinks(newLink)\n",
    "    return True\n",
    "    \n",
    "#link = '/wiki/Peter_the_Great_St._Petersburg_Polytechnic_University'\n",
    "#link = '/wiki/Ioffe_Institute'\n",
    "link = '/wiki/ITER'\n",
    "getLinkInfo(link)\n"
   ]
  }
 ],
 "metadata": {
  "kernelspec": {
   "display_name": "env-01",
   "language": "python",
   "name": "python3"
  },
  "language_info": {
   "codemirror_mode": {
    "name": "ipython",
    "version": 3
   },
   "file_extension": ".py",
   "mimetype": "text/x-python",
   "name": "python",
   "nbconvert_exporter": "python",
   "pygments_lexer": "ipython3",
   "version": "3.9.16"
  },
  "orig_nbformat": 4
 },
 "nbformat": 4,
 "nbformat_minor": 2
}
