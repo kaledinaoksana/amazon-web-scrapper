{
 "cells": [
  {
   "cell_type": "code",
   "execution_count": 49,
   "metadata": {},
   "outputs": [
    {
     "name": "stdout",
     "output_type": "stream",
     "text": [
      "Here is some important text you want to retrieve!\n",
      "A button to click!\n"
     ]
    }
   ],
   "source": [
    "from selenium import webdriver\n",
    "from selenium.webdriver.common.by import By\n",
    "from selenium.webdriver.support.ui import WebDriverWait\n",
    "from selenium.webdriver.support import expected_conditions as EC\n",
    "from selenium.webdriver.chrome.options import Options\n",
    "\n",
    "chrome_path = \"/Users/oksana_kaledina/.wdm/drivers/chromedriver/mac_arm64/114.0.5735.90/chromedriver\"\n",
    "chrome_options = Options()\n",
    "chrome_options.add_argument('--headless')\n",
    "driver = webdriver.Chrome(chrome_path, options=chrome_options)\n",
    "\n",
    "driver.get('http://pythonscraping.com/pages/javascript/ajaxDemo.html')\n",
    "try:\n",
    "    element = WebDriverWait(driver, 10).until(EC.presence_of_element_located((By.ID, 'loadedButton')))\n",
    "finally:\n",
    "    print(driver.find_element_by_id('content').text)\n",
    "    driver.close()"
   ]
  },
  {
   "cell_type": "code",
   "execution_count": 48,
   "metadata": {},
   "outputs": [
    {
     "data": {
      "text/plain": [
       "'/Users/oksana_kaledina/.wdm/drivers/chromedriver/mac_arm64/114.0.5735.90/chromedriver'"
      ]
     },
     "execution_count": 48,
     "metadata": {},
     "output_type": "execute_result"
    }
   ],
   "source": [
    "# DRIVERS\n",
    "from webdriver_manager.firefox import GeckoDriverManager #FIREFOX\n",
    "from webdriver_manager.opera import OperaDriverManager #OPERA\n",
    "from webdriver_manager.microsoft import EdgeChromiumDriverManager #EDGE\n",
    "from webdriver_manager.chrome import ChromeDriverManager #CHROME\n",
    "\n",
    "ChromeDriverManager().install()"
   ]
  },
  {
   "cell_type": "code",
   "execution_count": 62,
   "metadata": {},
   "outputs": [
    {
     "name": "stdout",
     "output_type": "stream",
     "text": [
      "****************\n",
      "Timing out after 5 seconds and returning\n",
      "****************\n",
      "<html><head>\n",
      "<title>The Destination Page!</title>\n",
      "\n",
      "</head>\n",
      "<body>\n",
      "This is the page you are looking for!\n",
      "\n",
      "</body></html>\n",
      "****************\n"
     ]
    }
   ],
   "source": [
    "from selenium import webdriver\n",
    "from selenium.webdriver.chrome.options import Options\n",
    "from selenium.webdriver.remote.webelement import WebElement\n",
    "from selenium.common.exceptions import StaleElementReferenceException\n",
    "import time\n",
    "\n",
    "def waitForLoad(driver):\n",
    "    elem = driver.find_element_by_tag_name('html')\n",
    "    count = 0\n",
    "    while True:\n",
    "        count += 1\n",
    "        if count > 10:\n",
    "            print('Timing out after 5 seconds and returning')\n",
    "            return\n",
    "        time.sleep(.5)\n",
    "        try:\n",
    "            elem == driver.find_element_by_tag_name\n",
    "        except StaleElementReferenceException:\n",
    "            return\n",
    "\n",
    "chrome_path = \"/Users/oksana_kaledina/.wdm/drivers/chromedriver/mac_arm64/114.0.5735.90/chromedriver\"\n",
    "url = 'https://pythonscraping.com/pages/javascript/redirectDemo1.html'\n",
    "\n",
    "chrome_options = Options()\n",
    "chrome_options.add_argument('--headless')\n",
    "driver = webdriver.Chrome(executable_path=chrome_path, options=chrome_options)\n",
    "\n",
    "driver.get(url)\n",
    "print('****************')\n",
    "waitForLoad(driver)\n",
    "print('****************')\n",
    "print(driver.page_source)\n",
    "print('****************')\n",
    "driver.close()"
   ]
  },
  {
   "cell_type": "code",
   "execution_count": 67,
   "metadata": {},
   "outputs": [
    {
     "name": "stdout",
     "output_type": "stream",
     "text": [
      "This is the page you are looking for!\n"
     ]
    }
   ],
   "source": [
    "from selenium.webdriver.common.by import By\n",
    "from selenium.webdriver.support.ui import WebDriverWait\n",
    "from selenium.webdriver.chrome.options import Options\n",
    "from selenium.webdriver.support import expected_conditions as EC\n",
    "from selenium.common.exceptions import TimeoutException\n",
    "\n",
    "chrome_path = \"/Users/oksana_kaledina/.wdm/drivers/chromedriver/mac_arm64/114.0.5735.90/chromedriver\"\n",
    "url = 'https://pythonscraping.com/pages/javascript/redirectDemo1.html'\n",
    "\n",
    "chrome_options = Options()\n",
    "chrome_options.add_argument('--headless')\n",
    "driver = webdriver.Chrome(executable_path=chrome_path, options=chrome_options)\n",
    "\n",
    "driver.get(url)\n",
    "xpath = \"//body[contains(text(), 'This is the page you are looking for!')]\"\n",
    "try:\n",
    "    bodyElement = WebDriverWait(driver, 5).until(EC.presence_of_element_located((By.XPATH, xpath)))\n",
    "    print(bodyElement.text)\n",
    "except TimeoutException:\n",
    "    print('Did not find the element')"
   ]
  }
 ],
 "metadata": {
  "kernelspec": {
   "display_name": "env-01",
   "language": "python",
   "name": "python3"
  },
  "language_info": {
   "codemirror_mode": {
    "name": "ipython",
    "version": 3
   },
   "file_extension": ".py",
   "mimetype": "text/x-python",
   "name": "python",
   "nbconvert_exporter": "python",
   "pygments_lexer": "ipython3",
   "version": "3.9.16"
  },
  "orig_nbformat": 4
 },
 "nbformat": 4,
 "nbformat_minor": 2
}
