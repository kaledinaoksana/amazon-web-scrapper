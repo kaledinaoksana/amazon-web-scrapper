{
 "cells": [
  {
   "attachments": {},
   "cell_type": "markdown",
   "id": "648fbf3b",
   "metadata": {},
   "source": [
    "# Amazon Web Scraper Project"
   ]
  },
  {
   "cell_type": "code",
   "execution_count": 6,
   "id": "6ebf4efd",
   "metadata": {},
   "outputs": [],
   "source": [
    "# IMPORT LIB\n",
    "\n",
    "from bs4 import BeautifulSoup\n",
    "import pandas as pd\n",
    "import requests\n",
    "import time\n",
    "import datetime\n",
    "import smtplib #for sending emails\n",
    "import csv\n",
    "import datetime\n",
    "import os\n",
    "import csv\n",
    "import smtplib\n",
    "import settings as s\n",
    "from email.mime.multipart import MIMEMultipart\n",
    "from email.mime.text import MIMEText"
   ]
  },
  {
   "cell_type": "code",
   "execution_count": 7,
   "id": "ecc1e262",
   "metadata": {},
   "outputs": [],
   "source": [
    "# CONNECTION\n",
    "\n",
    "def connect(URL):\n",
    "    headers = {\"User-Agent\": \"Mozilla/5.0 (Macintosh; Intel Mac OS X 10_15_7) AppleWebKit/537.36 (KHTML, like Gecko) Chrome/113.0.0.0 Safari/537.36\", \n",
    "            \"Accept-Encoding\":\"gzip, deflate, br\", \n",
    "            \"Accept\":\"text/html,application/xhtml+xml,application/xml;q=0.9,image/avif,image/webp,image/apng,*/*;q=0.8,application/signed-exchange;v=b3;q=0.7\", \n",
    "            \"DNT\":\"1\",\n",
    "            \"Connection\":\"close\", \n",
    "            \"Upgrade-Insecure-Requests\":\"1\"\n",
    "            }\n",
    "    page = requests.get(URL,headers=headers)\n",
    "\n",
    "    soup1 = BeautifulSoup(page.content, \"html.parser\")\n",
    "    return BeautifulSoup(soup1.prettify(), 'html.parser')\n",
    "\n",
    "# OPEN TITLE\n",
    "def find_title(bs):\n",
    "    title = bs.find(id=\"productTitle\").get_text().strip()\n",
    "    return title\n",
    "\n",
    "# PRICE : FIND FIRST SPAN WHERE class = \"a-offscreen\"\n",
    "def find_price(bs):\n",
    "    price = bs.find(\"span\", {\"class\": \"a-offscreen\"}).get_text().strip().replace('$','')\n",
    "    return price\n",
    "\n",
    "# SAVE DATA TO FILE\n",
    "def write_data(file, title, price):\n",
    "\n",
    "    today = datetime.date.today()\n",
    "    header = ['Title','Price','Date']\n",
    "    data = [title, price, today]\n",
    "    type(data)\n",
    "    if os.path.isfile(file):\n",
    "        with open(file,'a+', newline = '', encoding = 'UTF8') as f:\n",
    "            writer = csv.writer(f)\n",
    "            writer.writerow(data)\n",
    "    else:\n",
    "        with open(file,'w', newline = '', encoding = 'UTF8') as f:\n",
    "            writer = csv.writer(f)\n",
    "            writer.writerow(header)\n",
    "            writer.writerow(data)\n",
    "    return True\n",
    "\n",
    "\n",
    "#CHECK PRICE\n",
    "def check_price(price, min_price):\n",
    "    if (float(price) < float(min_price)):\n",
    "        send_massage()\n",
    "        return True\n",
    "    return False\n",
    "\n",
    "# SEND MESSAGE\n",
    "def send_massage():\n",
    "    mail_content = \"hh\"\n",
    "    sender_address = s.sender_address\n",
    "    sender_pass = s.sender_psw\n",
    "    receiver_address = s.receiver_address\n",
    "    #Setup the MIME\n",
    "    message = MIMEMultipart()\n",
    "    message['From'] = sender_address\n",
    "    message['To'] = receiver_address\n",
    "    message['Subject'] = 'A test mail sent by Python. It has an attachment.'   #The subject line\n",
    "    #The body and the attachments for the mail\n",
    "    message.attach(MIMEText(mail_content, 'plain'))\n",
    "    #Create SMTP session for sending the mail\n",
    "    session = smtplib.SMTP('smtp.office365.com', 587) #use gmail with port\n",
    "    session.starttls() #enable security\n",
    "    session.login(sender_address, sender_pass) #login with mail_id and password\n",
    "    text = message.as_string()\n",
    "    session.sendmail(sender_address, receiver_address, text)\n",
    "    session.quit()\n",
    "    print('Mail Sent')\n",
    "    return True\n",
    "\n"
   ]
  },
  {
   "cell_type": "code",
   "execution_count": 8,
   "id": "1e9b03f6",
   "metadata": {},
   "outputs": [
    {
     "ename": "FileNotFoundError",
     "evalue": "[Errno 2] No such file or directory: 'files/AmazonWebScraper.csv'",
     "output_type": "error",
     "traceback": [
      "\u001b[0;31m---------------------------------------------------------------------------\u001b[0m",
      "\u001b[0;31mFileNotFoundError\u001b[0m                         Traceback (most recent call last)",
      "Cell \u001b[0;32mIn[8], line 11\u001b[0m\n\u001b[1;32m      8\u001b[0m price \u001b[39m=\u001b[39m find_price(bs)\n\u001b[1;32m      9\u001b[0m title \u001b[39m=\u001b[39m find_title(bs)\n\u001b[0;32m---> 11\u001b[0m \u001b[39mif\u001b[39;00m write_data(file, title, price):\n\u001b[1;32m     12\u001b[0m     pd\u001b[39m.\u001b[39mread_csv(file)\n\u001b[1;32m     14\u001b[0m \u001b[39mif\u001b[39;00m check_price(price, low_price):\n",
      "Cell \u001b[0;32mIn[7], line 38\u001b[0m, in \u001b[0;36mwrite_data\u001b[0;34m(file, title, price)\u001b[0m\n\u001b[1;32m     36\u001b[0m         writer\u001b[39m.\u001b[39mwriterow(data)\n\u001b[1;32m     37\u001b[0m \u001b[39melse\u001b[39;00m:\n\u001b[0;32m---> 38\u001b[0m     \u001b[39mwith\u001b[39;00m \u001b[39mopen\u001b[39;49m(file,\u001b[39m'\u001b[39;49m\u001b[39mw\u001b[39;49m\u001b[39m'\u001b[39;49m, newline \u001b[39m=\u001b[39;49m \u001b[39m'\u001b[39;49m\u001b[39m'\u001b[39;49m, encoding \u001b[39m=\u001b[39;49m \u001b[39m'\u001b[39;49m\u001b[39mUTF8\u001b[39;49m\u001b[39m'\u001b[39;49m) \u001b[39mas\u001b[39;00m f:\n\u001b[1;32m     39\u001b[0m         writer \u001b[39m=\u001b[39m csv\u001b[39m.\u001b[39mwriter(f)\n\u001b[1;32m     40\u001b[0m         writer\u001b[39m.\u001b[39mwriterow(header)\n",
      "File \u001b[0;32m~/miniforge3/envs/env-01/lib/python3.9/site-packages/IPython/core/interactiveshell.py:284\u001b[0m, in \u001b[0;36m_modified_open\u001b[0;34m(file, *args, **kwargs)\u001b[0m\n\u001b[1;32m    277\u001b[0m \u001b[39mif\u001b[39;00m file \u001b[39min\u001b[39;00m {\u001b[39m0\u001b[39m, \u001b[39m1\u001b[39m, \u001b[39m2\u001b[39m}:\n\u001b[1;32m    278\u001b[0m     \u001b[39mraise\u001b[39;00m \u001b[39mValueError\u001b[39;00m(\n\u001b[1;32m    279\u001b[0m         \u001b[39mf\u001b[39m\u001b[39m\"\u001b[39m\u001b[39mIPython won\u001b[39m\u001b[39m'\u001b[39m\u001b[39mt let you open fd=\u001b[39m\u001b[39m{\u001b[39;00mfile\u001b[39m}\u001b[39;00m\u001b[39m by default \u001b[39m\u001b[39m\"\u001b[39m\n\u001b[1;32m    280\u001b[0m         \u001b[39m\"\u001b[39m\u001b[39mas it is likely to crash IPython. If you know what you are doing, \u001b[39m\u001b[39m\"\u001b[39m\n\u001b[1;32m    281\u001b[0m         \u001b[39m\"\u001b[39m\u001b[39myou can use builtins\u001b[39m\u001b[39m'\u001b[39m\u001b[39m open.\u001b[39m\u001b[39m\"\u001b[39m\n\u001b[1;32m    282\u001b[0m     )\n\u001b[0;32m--> 284\u001b[0m \u001b[39mreturn\u001b[39;00m io_open(file, \u001b[39m*\u001b[39;49margs, \u001b[39m*\u001b[39;49m\u001b[39m*\u001b[39;49mkwargs)\n",
      "\u001b[0;31mFileNotFoundError\u001b[0m: [Errno 2] No such file or directory: 'files/AmazonWebScraper.csv'"
     ]
    }
   ],
   "source": [
    "# MAIN\n",
    "\n",
    "file = 'files/AmazonWebScraper.csv'\n",
    "URL = 'https://www.amazon.com/Amazon-Essentials-Womens-Skirt-Camel/dp/B08JH893DJ/ref=sr_1_2?crid=2EPWJXDHO814T&keywords=skirt&qid=1686339482&sprefix=skirt%2Caps%2C213&sr=8-2&th=1&psc=1'\n",
    "low_price = 25\n",
    "\n",
    "bs = connect(URL)\n",
    "price = find_price(bs)\n",
    "title = find_title(bs)\n",
    "\n",
    "if write_data(file, title, price):\n",
    "    pd.read_csv(file)\n",
    "\n",
    "if check_price(price, low_price):\n",
    "    print('price of',title,'lower than', low_price)\n",
    "else:\n",
    "    print('price of',title,'higher than', low_price)\n"
   ]
  },
  {
   "cell_type": "code",
   "execution_count": null,
   "id": "6b3e9dec",
   "metadata": {},
   "outputs": [],
   "source": [
    "# FIND SPAN WHERE class = \"a-offscreen\"\n",
    "bs.find_all(\"span\", {\"class\": \"a-offscreen\"})"
   ]
  },
  {
   "cell_type": "code",
   "execution_count": null,
   "id": "2a62e763",
   "metadata": {},
   "outputs": [],
   "source": [
    "# LOOP FOR CHECK PRICE\n",
    "\n",
    "def loop_price():\n",
    "    while(True):\n",
    "        check_price()\n",
    "        time.sleep(5)"
   ]
  }
 ],
 "metadata": {
  "kernelspec": {
   "display_name": "Python 3 (ipykernel)",
   "language": "python",
   "name": "python3"
  },
  "language_info": {
   "codemirror_mode": {
    "name": "ipython",
    "version": 3
   },
   "file_extension": ".py",
   "mimetype": "text/x-python",
   "name": "python",
   "nbconvert_exporter": "python",
   "pygments_lexer": "ipython3",
   "version": "3.9.16"
  }
 },
 "nbformat": 4,
 "nbformat_minor": 5
}
